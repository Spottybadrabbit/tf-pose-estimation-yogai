{
 "cells": [
  {
   "cell_type": "markdown",
   "metadata": {},
   "source": [
    "# Identifying Yoga Poses\n",
    "\n",
    "We've collected a few samples for each pose we'd like to categorize, and we need to learn how to identify which pose the user is in. We first used PoseNet to obtain a graphical representation of the poses we collected. This will produce a 36 point array of the various body part coordinates in each sample. We'll save this array along with its correct pose label to construct a dataset. First, let's import all the libraries we'll be using."
   ]
  },
  {
   "cell_type": "code",
   "execution_count": 1,
   "metadata": {
    "collapsed": true
   },
   "outputs": [],
   "source": [
    "%matplotlib inline\n",
    "\n",
    "import pandas as pd\n",
    "import numpy as np\n",
    "import matplotlib\n",
    "import matplotlib.pyplot as plt\n",
    "from sklearn.model_selection import train_test_split\n",
    "from sklearn.preprocessing import StandardScaler\n",
    "from sklearn.neighbors import KNeighborsClassifier\n",
    "import pickle"
   ]
  },
  {
   "cell_type": "markdown",
   "metadata": {},
   "source": [
    "Let's load our data and take a peak at what those samples look like."
   ]
  },
  {
   "cell_type": "code",
   "execution_count": 2,
   "metadata": {},
   "outputs": [
    {
     "data": {
      "text/html": [
       "<div>\n",
       "<style>\n",
       "    .dataframe thead tr:only-child th {\n",
       "        text-align: right;\n",
       "    }\n",
       "\n",
       "    .dataframe thead th {\n",
       "        text-align: left;\n",
       "    }\n",
       "\n",
       "    .dataframe tbody tr th {\n",
       "        vertical-align: top;\n",
       "    }\n",
       "</style>\n",
       "<table border=\"1\" class=\"dataframe\">\n",
       "  <thead>\n",
       "    <tr style=\"text-align: right;\">\n",
       "      <th></th>\n",
       "      <th>Nosex</th>\n",
       "      <th>Nosey</th>\n",
       "      <th>Neckx</th>\n",
       "      <th>Necky</th>\n",
       "      <th>RShoulderx</th>\n",
       "      <th>RShouldery</th>\n",
       "      <th>RElbowx</th>\n",
       "      <th>RElbowy</th>\n",
       "      <th>RWristx</th>\n",
       "      <th>RWristy</th>\n",
       "      <th>...</th>\n",
       "      <th>LAnkley</th>\n",
       "      <th>REyex</th>\n",
       "      <th>REyey</th>\n",
       "      <th>LEyex</th>\n",
       "      <th>LEyey</th>\n",
       "      <th>REarx</th>\n",
       "      <th>REary</th>\n",
       "      <th>LEarx</th>\n",
       "      <th>LEary</th>\n",
       "      <th>labels</th>\n",
       "    </tr>\n",
       "  </thead>\n",
       "  <tbody>\n",
       "    <tr>\n",
       "      <th>0</th>\n",
       "      <td>0.814815</td>\n",
       "      <td>0.543478</td>\n",
       "      <td>0.722222</td>\n",
       "      <td>0.608696</td>\n",
       "      <td>0.722222</td>\n",
       "      <td>0.521739</td>\n",
       "      <td>0.685185</td>\n",
       "      <td>0.326087</td>\n",
       "      <td>0.666667</td>\n",
       "      <td>0.173913</td>\n",
       "      <td>...</td>\n",
       "      <td>0.869565</td>\n",
       "      <td>0.814815</td>\n",
       "      <td>0.521739</td>\n",
       "      <td>0.833333</td>\n",
       "      <td>0.565217</td>\n",
       "      <td>0.796296</td>\n",
       "      <td>0.500000</td>\n",
       "      <td>0.833333</td>\n",
       "      <td>0.608696</td>\n",
       "      <td>plank</td>\n",
       "    </tr>\n",
       "    <tr>\n",
       "      <th>1</th>\n",
       "      <td>0.111111</td>\n",
       "      <td>0.413043</td>\n",
       "      <td>0.222222</td>\n",
       "      <td>0.326087</td>\n",
       "      <td>0.222222</td>\n",
       "      <td>0.304348</td>\n",
       "      <td>0.000000</td>\n",
       "      <td>0.000000</td>\n",
       "      <td>0.000000</td>\n",
       "      <td>0.000000</td>\n",
       "      <td>...</td>\n",
       "      <td>0.695652</td>\n",
       "      <td>0.000000</td>\n",
       "      <td>0.000000</td>\n",
       "      <td>0.111111</td>\n",
       "      <td>0.391304</td>\n",
       "      <td>0.000000</td>\n",
       "      <td>0.000000</td>\n",
       "      <td>0.111111</td>\n",
       "      <td>0.326087</td>\n",
       "      <td>plank</td>\n",
       "    </tr>\n",
       "    <tr>\n",
       "      <th>2</th>\n",
       "      <td>0.777778</td>\n",
       "      <td>0.521739</td>\n",
       "      <td>0.685185</td>\n",
       "      <td>0.456522</td>\n",
       "      <td>0.685185</td>\n",
       "      <td>0.456522</td>\n",
       "      <td>0.685185</td>\n",
       "      <td>0.695652</td>\n",
       "      <td>0.685185</td>\n",
       "      <td>0.869565</td>\n",
       "      <td>...</td>\n",
       "      <td>0.000000</td>\n",
       "      <td>0.777778</td>\n",
       "      <td>0.500000</td>\n",
       "      <td>0.000000</td>\n",
       "      <td>0.000000</td>\n",
       "      <td>0.759259</td>\n",
       "      <td>0.456522</td>\n",
       "      <td>0.000000</td>\n",
       "      <td>0.000000</td>\n",
       "      <td>plank</td>\n",
       "    </tr>\n",
       "    <tr>\n",
       "      <th>3</th>\n",
       "      <td>0.000000</td>\n",
       "      <td>0.000000</td>\n",
       "      <td>0.759259</td>\n",
       "      <td>0.326087</td>\n",
       "      <td>0.000000</td>\n",
       "      <td>0.000000</td>\n",
       "      <td>0.000000</td>\n",
       "      <td>0.000000</td>\n",
       "      <td>0.000000</td>\n",
       "      <td>0.000000</td>\n",
       "      <td>...</td>\n",
       "      <td>0.695652</td>\n",
       "      <td>0.000000</td>\n",
       "      <td>0.000000</td>\n",
       "      <td>0.000000</td>\n",
       "      <td>0.000000</td>\n",
       "      <td>0.000000</td>\n",
       "      <td>0.000000</td>\n",
       "      <td>0.000000</td>\n",
       "      <td>0.000000</td>\n",
       "      <td>plank</td>\n",
       "    </tr>\n",
       "    <tr>\n",
       "      <th>4</th>\n",
       "      <td>0.907407</td>\n",
       "      <td>0.478261</td>\n",
       "      <td>0.759259</td>\n",
       "      <td>0.326087</td>\n",
       "      <td>0.759259</td>\n",
       "      <td>0.347826</td>\n",
       "      <td>0.740741</td>\n",
       "      <td>0.869565</td>\n",
       "      <td>0.851852</td>\n",
       "      <td>0.847826</td>\n",
       "      <td>...</td>\n",
       "      <td>0.000000</td>\n",
       "      <td>0.907407</td>\n",
       "      <td>0.434783</td>\n",
       "      <td>0.000000</td>\n",
       "      <td>0.000000</td>\n",
       "      <td>0.870370</td>\n",
       "      <td>0.326087</td>\n",
       "      <td>0.000000</td>\n",
       "      <td>0.000000</td>\n",
       "      <td>plank</td>\n",
       "    </tr>\n",
       "  </tbody>\n",
       "</table>\n",
       "<p>5 rows × 37 columns</p>\n",
       "</div>"
      ],
      "text/plain": [
       "      Nosex     Nosey     Neckx     Necky  RShoulderx  RShouldery   RElbowx  \\\n",
       "0  0.814815  0.543478  0.722222  0.608696    0.722222    0.521739  0.685185   \n",
       "1  0.111111  0.413043  0.222222  0.326087    0.222222    0.304348  0.000000   \n",
       "2  0.777778  0.521739  0.685185  0.456522    0.685185    0.456522  0.685185   \n",
       "3  0.000000  0.000000  0.759259  0.326087    0.000000    0.000000  0.000000   \n",
       "4  0.907407  0.478261  0.759259  0.326087    0.759259    0.347826  0.740741   \n",
       "\n",
       "    RElbowy   RWristx   RWristy   ...     LAnkley     REyex     REyey  \\\n",
       "0  0.326087  0.666667  0.173913   ...    0.869565  0.814815  0.521739   \n",
       "1  0.000000  0.000000  0.000000   ...    0.695652  0.000000  0.000000   \n",
       "2  0.695652  0.685185  0.869565   ...    0.000000  0.777778  0.500000   \n",
       "3  0.000000  0.000000  0.000000   ...    0.695652  0.000000  0.000000   \n",
       "4  0.869565  0.851852  0.847826   ...    0.000000  0.907407  0.434783   \n",
       "\n",
       "      LEyex     LEyey     REarx     REary     LEarx     LEary  labels  \n",
       "0  0.833333  0.565217  0.796296  0.500000  0.833333  0.608696   plank  \n",
       "1  0.111111  0.391304  0.000000  0.000000  0.111111  0.326087   plank  \n",
       "2  0.000000  0.000000  0.759259  0.456522  0.000000  0.000000   plank  \n",
       "3  0.000000  0.000000  0.000000  0.000000  0.000000  0.000000   plank  \n",
       "4  0.000000  0.000000  0.870370  0.326087  0.000000  0.000000   plank  \n",
       "\n",
       "[5 rows x 37 columns]"
      ]
     },
     "execution_count": 2,
     "metadata": {},
     "output_type": "execute_result"
    }
   ],
   "source": [
    "#All the coordinates rolled out into a 36 array + label column\n",
    "columns = ['Nosex', 'Nosey', 'Neckx', 'Necky', 'RShoulderx', 'RShouldery', 'RElbowx', \\\n",
    "           'RElbowy', 'RWristx', 'RWristy', 'LShoulderx', 'LShouldery' , 'LElbowx', 'LElbowy' , \\\n",
    "           'LWristx', 'LWristy', 'RHipx', 'RHipy', 'RKneex', 'RKneey', 'RAnklex', 'RAnkley', \\\n",
    "           'LHipx', 'LHipy', 'LKneex', 'LKneey', 'LAnklex', 'LAnkley', 'REyex', 'REyey', 'LEyex',\\\n",
    "           'LEyey', 'REarx', 'REary', 'LEarx', 'LEary', 'labels']\n",
    "dataset = pd.read_csv('yoga_poses_2.csv', names=columns)\n",
    "dataset.head()"
   ]
  },
  {
   "cell_type": "markdown",
   "metadata": {},
   "source": [
    "Format the data so we can feed it to a model."
   ]
  },
  {
   "cell_type": "code",
   "execution_count": 3,
   "metadata": {
    "collapsed": true
   },
   "outputs": [],
   "source": [
    "# Spliting the points and the labels\n",
    "X = dataset.iloc[:, :-1].values  \n",
    "y = dataset.iloc[:, 36].values\n",
    "\n",
    "# And split the data into appropriate data sets\n",
    "X_train, X_test, y_train, y_test = train_test_split(X, y, test_size=0.20) \n",
    "\n",
    "#Scale the data - KNN likes scaled data :D\n",
    "scaler = StandardScaler()\n",
    "scaler.fit(X_train)\n",
    "X_train = scaler.transform(X_train)\n",
    "X_test = scaler.transform(X_test)"
   ]
  },
  {
   "cell_type": "markdown",
   "metadata": {},
   "source": [
    "Our data is ready to feed it to a model! Our first approach will be to classify which pose the user is currently in. If the user is not in the correct pose, we'll give them some advice on how to execute it. As we progress, we'll want to think about how to evaluate the user's pose, ie. how well are they execuring the pose. But for now, let's just determine if a user is in the right pose.\n",
    "\n",
    "We'll try K-Neearest Neighbors. This algorithm will cluster all the similar poses together into (hopefully) differentiated groups so when a new pose sample gets introduced, the model will know what group that pose belongs to. When it finds which group the pose should be put it, it will be associated with that group's particular label. \n",
    "\n",
    "Which K should we use? The default is k=5, ie look at the closest 5 neighbors. However this may not be the best K for our data. Since we don't have too many samples, lets iterate through K = 1-40 and see which K returns the model with the lowest error score compared to our test set. "
   ]
  },
  {
   "cell_type": "code",
   "execution_count": 4,
   "metadata": {},
   "outputs": [
    {
     "name": "stdout",
     "output_type": "stream",
     "text": [
      "[0.5600907029478458, 0.5827664399092971, 0.5306122448979592, 0.5124716553287982, 0.4988662131519274, 0.5011337868480725, 0.4852607709750567, 0.4875283446712018, 0.4875283446712018, 0.48299319727891155, 0.4671201814058957, 0.46938775510204084, 0.4580498866213152, 0.4603174603174603, 0.48299319727891155, 0.4852607709750567, 0.47392290249433106, 0.4875283446712018, 0.48299319727891155, 0.47619047619047616, 0.47392290249433106, 0.49206349206349204, 0.48299319727891155, 0.4943310657596372, 0.4965986394557823, 0.4965986394557823, 0.5056689342403629, 0.5079365079365079, 0.4988662131519274, 0.5011337868480725, 0.4965986394557823, 0.4988662131519274, 0.4965986394557823, 0.5056689342403629, 0.5034013605442177, 0.5079365079365079, 0.4988662131519274, 0.5011337868480725, 0.5079365079365079]\n",
      "Best K:  12\n"
     ]
    }
   ],
   "source": [
    "error = []\n",
    "for i in range(1, 40):\n",
    "    knn = KNeighborsClassifier(n_neighbors=i)\n",
    "    knn.fit(X_train, y_train)\n",
    "    pred_i = knn.predict(X_test)\n",
    "    error.append(np.mean(pred_i != y_test))\n",
    "print(error)\n",
    "\n",
    "#Let's see which K gives us the lowest error:\n",
    "best_k = error.index(min(error))\n",
    "print('Best K: ', best_k)"
   ]
  },
  {
   "cell_type": "code",
   "execution_count": 5,
   "metadata": {
    "collapsed": true
   },
   "outputs": [],
   "source": [
    "#So we'll go with the lowest error K for now\n",
    "knn = KNeighborsClassifier(n_neighbors=best_k)\n",
    "knn.fit(X_train, y_train)\n",
    "y_pred = knn.predict(X_test)"
   ]
  },
  {
   "cell_type": "markdown",
   "metadata": {},
   "source": [
    "So here we see that looking at 20 neighbors is the best K out of our 40 possible K values. \n",
    "However, this number doesn't really tell us how well the model is actually classifying our 11 poses!\n",
    "We can see how well the model is grouping samples by printing the *confusion matrix* of the model. The confusion matrix will show us how often the model gets confused about a sample and misclassifies it AND to what it misclassifies it as. \n",
    "\n",
    "We'll also look at the classification report which will give us the recall and precision among other stats for each label"
   ]
  },
  {
   "cell_type": "code",
   "execution_count": 6,
   "metadata": {},
   "outputs": [
    {
     "name": "stdout",
     "output_type": "stream",
     "text": [
      "[[35 10  4 13  4  3  2]\n",
      " [ 7 27 12  4  4  1  1]\n",
      " [ 3  4 24  3  1  1  3]\n",
      " [15  0  2 39  1  1  4]\n",
      " [ 7  5  2  3 34 15  7]\n",
      " [ 1  1  3  3 13 42  2]\n",
      " [ 6  4  2  4 18  8 33]]\n",
      "                      precision    recall  f1-score   support\n",
      "\n",
      "chaturanga_dandasana       0.47      0.49      0.48        71\n",
      "               cobra       0.53      0.48      0.50        56\n",
      "                 cow       0.49      0.62      0.55        39\n",
      "               plank       0.57      0.63      0.60        62\n",
      "           warrior_1       0.45      0.47      0.46        73\n",
      "           warrior_2       0.59      0.65      0.62        65\n",
      "           warrior_3       0.63      0.44      0.52        75\n",
      "\n",
      "         avg / total       0.54      0.53      0.53       441\n",
      "\n"
     ]
    }
   ],
   "source": [
    "from sklearn.metrics import confusion_matrix, classification_report\n",
    "conf_matrix = confusion_matrix(y_test, y_pred)\n",
    "print(conf_matrix)\n",
    "\n",
    "class_report = classification_report(y_test, y_pred)\n",
    "print(class_report)"
   ]
  },
  {
   "cell_type": "markdown",
   "metadata": {},
   "source": [
    "And to get a better view let's graph the confusion matrix."
   ]
  },
  {
   "cell_type": "code",
   "execution_count": 7,
   "metadata": {
    "collapsed": true
   },
   "outputs": [],
   "source": [
    "import itertools\n",
    "def plot_confusion_matrix(cm, classes,\n",
    "                          normalize=True,\n",
    "                          title='Confusion matrix',\n",
    "                          cmap=plt.cm.Blues):\n",
    "    \"\"\"\n",
    "    This function prints and plots the confusion matrix.\n",
    "    Normalization can be applied by setting `normalize=True`.\n",
    "    \"\"\"\n",
    "    if normalize:\n",
    "        cm = cm.astype('float') / cm.sum(axis=1)[:, np.newaxis]\n",
    "\n",
    "    plt.imshow(cm, interpolation='nearest', cmap=cmap, aspect='auto')\n",
    "    plt.title(title)\n",
    "    plt.colorbar()\n",
    "    tick_marks = np.arange(len(classes))\n",
    "    plt.xticks(tick_marks, rotation=45)\n",
    "    plt.yticks(tick_marks)\n",
    "\n",
    "    fmt = '.2f' if normalize else 'd'\n",
    "    thresh = cm.max() / 2.\n",
    "    for i, j in itertools.product(range(cm.shape[0]), range(cm.shape[1])):\n",
    "        plt.text(j, i, format(cm[i, j], fmt),\n",
    "                 horizontalalignment=\"center\",\n",
    "                 color=\"white\" if cm[i, j] > thresh else \"black\")\n",
    "\n",
    "    plt.ylabel('True label')\n",
    "    plt.xlabel('Predicted label')\n",
    "    plt.tight_layout()"
   ]
  },
  {
   "cell_type": "code",
   "execution_count": 8,
   "metadata": {},
   "outputs": [
    {
     "data": {
      "image/png": "[encoded data removed]",
      "text/plain": [
       "<matplotlib.figure.Figure at 0x7f57fb8dbe48>"
      ]
     },
     "metadata": {},
     "output_type": "display_data"
    }
   ],
   "source": [
    "class_names = ['chaturanga_dandasana', 'cobra', 'cow', 'plank', 'warrior_1','warrior_2', 'warrior_3']\n",
    "plot_confusion_matrix(conf_matrix, classes=class_names, normalize=True,\n",
    "                      title='Normalized confusion matrix')\n",
    "plt.show()"
   ]
  },
  {
   "cell_type": "markdown",
   "metadata": {},
   "source": [
    "Dark blue on the diagonal is what we're aiming for. We can see the model is really good at predicting *warrior_2* pose but *warrior_1* gets confused with *warrior_2* and *warrior_3* poses. However, this is a great start classifying a handful of distinct poses. We want to save the model to file so we can run inference while our virtual instructor is running."
   ]
  },
  {
   "cell_type": "code",
   "execution_count": 10,
   "metadata": {
    "collapsed": true
   },
   "outputs": [],
   "source": [
    "filename = 'yoga_poses.sav'\n",
    "pickle.dump(knn, open(filename, 'wb'))"
   ]
  }
 ],
 "metadata": {
  "kernelspec": {
   "display_name": "Python 3",
   "language": "python",
   "name": "python3"
  },
  "language_info": {
   "codemirror_mode": {
    "name": "ipython",
    "version": 3
   },
   "file_extension": ".py",
   "mimetype": "text/x-python",
   "name": "python",
   "nbconvert_exporter": "python",
   "pygments_lexer": "ipython3",
   "version": "3.6.1"
  }
 },
 "nbformat": 4,
 "nbformat_minor": 2
}
