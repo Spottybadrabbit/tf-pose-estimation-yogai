{
 "cells": [
  {
   "cell_type": "markdown",
   "metadata": {},
   "source": [
    "# Identifying Yoga Poses\n",
    "\n",
    "We've collected a few samples for each pose we'd like to categorize, and we need to learn how to identify which pose the user is in. We first used PoseNet to obtain a graphical representation of the poses we collected. This will produce a 36 point array of the various body part coordinates in each sample. We'll save this array along with its correct pose label to construct a dataset. First, let's import all the libraries we'll be using."
   ]
  },
  {
   "cell_type": "code",
   "execution_count": 1,
   "metadata": {
    "collapsed": true
   },
   "outputs": [],
   "source": [
    "%matplotlib inline\n",
    "\n",
    "import pandas as pd\n",
    "import numpy as np\n",
    "import matplotlib\n",
    "import matplotlib.pyplot as plt\n",
    "from sklearn.model_selection import train_test_split\n",
    "from sklearn.preprocessing import StandardScaler\n",
    "from sklearn.neighbors import KNeighborsClassifier\n",
    "import pickle"
   ]
  },
  {
   "cell_type": "markdown",
   "metadata": {},
   "source": [
    "Let's load our data and take a peak at what those samples look like."
   ]
  },
  {
   "cell_type": "code",
   "execution_count": 2,
   "metadata": {},
   "outputs": [
    {
     "data": {
      "text/html": [
       "<div>\n",
       "<style>\n",
       "    .dataframe thead tr:only-child th {\n",
       "        text-align: right;\n",
       "    }\n",
       "\n",
       "    .dataframe thead th {\n",
       "        text-align: left;\n",
       "    }\n",
       "\n",
       "    .dataframe tbody tr th {\n",
       "        vertical-align: top;\n",
       "    }\n",
       "</style>\n",
       "<table border=\"1\" class=\"dataframe\">\n",
       "  <thead>\n",
       "    <tr style=\"text-align: right;\">\n",
       "      <th></th>\n",
       "      <th>Nosex</th>\n",
       "      <th>Nosey</th>\n",
       "      <th>Neckx</th>\n",
       "      <th>Necky</th>\n",
       "      <th>RShoulderx</th>\n",
       "      <th>RShouldery</th>\n",
       "      <th>RElbowx</th>\n",
       "      <th>RElbowy</th>\n",
       "      <th>RWristx</th>\n",
       "      <th>RWristy</th>\n",
       "      <th>...</th>\n",
       "      <th>LAnkley</th>\n",
       "      <th>REyex</th>\n",
       "      <th>REyey</th>\n",
       "      <th>LEyex</th>\n",
       "      <th>LEyey</th>\n",
       "      <th>REarx</th>\n",
       "      <th>REary</th>\n",
       "      <th>LEarx</th>\n",
       "      <th>LEary</th>\n",
       "      <th>labels</th>\n",
       "    </tr>\n",
       "  </thead>\n",
       "  <tbody>\n",
       "    <tr>\n",
       "      <th>0</th>\n",
       "      <td>0.814815</td>\n",
       "      <td>0.543478</td>\n",
       "      <td>0.740741</td>\n",
       "      <td>0.586957</td>\n",
       "      <td>0.703704</td>\n",
       "      <td>0.543478</td>\n",
       "      <td>0.000000</td>\n",
       "      <td>0.000000</td>\n",
       "      <td>0.000000</td>\n",
       "      <td>0.000000</td>\n",
       "      <td>...</td>\n",
       "      <td>0.0</td>\n",
       "      <td>0.814815</td>\n",
       "      <td>0.521739</td>\n",
       "      <td>0.833333</td>\n",
       "      <td>0.543478</td>\n",
       "      <td>0.796296</td>\n",
       "      <td>0.521739</td>\n",
       "      <td>0.833333</td>\n",
       "      <td>0.586957</td>\n",
       "      <td>plank</td>\n",
       "    </tr>\n",
       "    <tr>\n",
       "      <th>1</th>\n",
       "      <td>0.777778</td>\n",
       "      <td>0.521739</td>\n",
       "      <td>0.703704</td>\n",
       "      <td>0.500000</td>\n",
       "      <td>0.685185</td>\n",
       "      <td>0.478261</td>\n",
       "      <td>0.685185</td>\n",
       "      <td>0.695652</td>\n",
       "      <td>0.000000</td>\n",
       "      <td>0.000000</td>\n",
       "      <td>...</td>\n",
       "      <td>0.0</td>\n",
       "      <td>0.777778</td>\n",
       "      <td>0.500000</td>\n",
       "      <td>0.000000</td>\n",
       "      <td>0.000000</td>\n",
       "      <td>0.759259</td>\n",
       "      <td>0.456522</td>\n",
       "      <td>0.000000</td>\n",
       "      <td>0.000000</td>\n",
       "      <td>plank</td>\n",
       "    </tr>\n",
       "    <tr>\n",
       "      <th>2</th>\n",
       "      <td>0.203704</td>\n",
       "      <td>0.282609</td>\n",
       "      <td>0.296296</td>\n",
       "      <td>0.456522</td>\n",
       "      <td>0.259259</td>\n",
       "      <td>0.521739</td>\n",
       "      <td>0.296296</td>\n",
       "      <td>0.739130</td>\n",
       "      <td>0.314815</td>\n",
       "      <td>0.891304</td>\n",
       "      <td>...</td>\n",
       "      <td>0.0</td>\n",
       "      <td>0.166667</td>\n",
       "      <td>0.282609</td>\n",
       "      <td>0.000000</td>\n",
       "      <td>0.000000</td>\n",
       "      <td>0.148148</td>\n",
       "      <td>0.369565</td>\n",
       "      <td>0.000000</td>\n",
       "      <td>0.000000</td>\n",
       "      <td>plank</td>\n",
       "    </tr>\n",
       "    <tr>\n",
       "      <th>3</th>\n",
       "      <td>0.833333</td>\n",
       "      <td>0.413043</td>\n",
       "      <td>0.759259</td>\n",
       "      <td>0.543478</td>\n",
       "      <td>0.722222</td>\n",
       "      <td>0.500000</td>\n",
       "      <td>0.000000</td>\n",
       "      <td>0.000000</td>\n",
       "      <td>0.000000</td>\n",
       "      <td>0.000000</td>\n",
       "      <td>...</td>\n",
       "      <td>0.0</td>\n",
       "      <td>0.851852</td>\n",
       "      <td>0.369565</td>\n",
       "      <td>0.870370</td>\n",
       "      <td>0.413043</td>\n",
       "      <td>0.000000</td>\n",
       "      <td>0.000000</td>\n",
       "      <td>0.888889</td>\n",
       "      <td>0.478261</td>\n",
       "      <td>plank</td>\n",
       "    </tr>\n",
       "    <tr>\n",
       "      <th>4</th>\n",
       "      <td>0.962963</td>\n",
       "      <td>0.565217</td>\n",
       "      <td>0.814815</td>\n",
       "      <td>0.565217</td>\n",
       "      <td>0.870370</td>\n",
       "      <td>0.586957</td>\n",
       "      <td>0.851852</td>\n",
       "      <td>0.760870</td>\n",
       "      <td>0.000000</td>\n",
       "      <td>0.000000</td>\n",
       "      <td>...</td>\n",
       "      <td>0.0</td>\n",
       "      <td>0.962963</td>\n",
       "      <td>0.521739</td>\n",
       "      <td>0.000000</td>\n",
       "      <td>0.000000</td>\n",
       "      <td>0.925926</td>\n",
       "      <td>0.500000</td>\n",
       "      <td>0.000000</td>\n",
       "      <td>0.000000</td>\n",
       "      <td>plank</td>\n",
       "    </tr>\n",
       "  </tbody>\n",
       "</table>\n",
       "<p>5 rows × 37 columns</p>\n",
       "</div>"
      ],
      "text/plain": [
       "      Nosex     Nosey     Neckx     Necky  RShoulderx  RShouldery   RElbowx  \\\n",
       "0  0.814815  0.543478  0.740741  0.586957    0.703704    0.543478  0.000000   \n",
       "1  0.777778  0.521739  0.703704  0.500000    0.685185    0.478261  0.685185   \n",
       "2  0.203704  0.282609  0.296296  0.456522    0.259259    0.521739  0.296296   \n",
       "3  0.833333  0.413043  0.759259  0.543478    0.722222    0.500000  0.000000   \n",
       "4  0.962963  0.565217  0.814815  0.565217    0.870370    0.586957  0.851852   \n",
       "\n",
       "    RElbowy   RWristx   RWristy   ...    LAnkley     REyex     REyey  \\\n",
       "0  0.000000  0.000000  0.000000   ...        0.0  0.814815  0.521739   \n",
       "1  0.695652  0.000000  0.000000   ...        0.0  0.777778  0.500000   \n",
       "2  0.739130  0.314815  0.891304   ...        0.0  0.166667  0.282609   \n",
       "3  0.000000  0.000000  0.000000   ...        0.0  0.851852  0.369565   \n",
       "4  0.760870  0.000000  0.000000   ...        0.0  0.962963  0.521739   \n",
       "\n",
       "      LEyex     LEyey     REarx     REary     LEarx     LEary  labels  \n",
       "0  0.833333  0.543478  0.796296  0.521739  0.833333  0.586957   plank  \n",
       "1  0.000000  0.000000  0.759259  0.456522  0.000000  0.000000   plank  \n",
       "2  0.000000  0.000000  0.148148  0.369565  0.000000  0.000000   plank  \n",
       "3  0.870370  0.413043  0.000000  0.000000  0.888889  0.478261   plank  \n",
       "4  0.000000  0.000000  0.925926  0.500000  0.000000  0.000000   plank  \n",
       "\n",
       "[5 rows x 37 columns]"
      ]
     },
     "execution_count": 2,
     "metadata": {},
     "output_type": "execute_result"
    }
   ],
   "source": [
    "#All the coordinates rolled out into a 36 array + label column\n",
    "columns = ['Nosex', 'Nosey', 'Neckx', 'Necky', 'RShoulderx', 'RShouldery', 'RElbowx', \\\n",
    "           'RElbowy', 'RWristx', 'RWristy', 'LShoulderx', 'LShouldery' , 'LElbowx', 'LElbowy' , \\\n",
    "           'LWristx', 'LWristy', 'RHipx', 'RHipy', 'RKneex', 'RKneey', 'RAnklex', 'RAnkley', \\\n",
    "           'LHipx', 'LHipy', 'LKneex', 'LKneey', 'LAnklex', 'LAnkley', 'REyex', 'REyey', 'LEyex',\\\n",
    "           'LEyey', 'REarx', 'REary', 'LEarx', 'LEary', 'labels']\n",
    "dataset = pd.read_csv('yoga_poses.csv', names=columns)\n",
    "dataset.head()"
   ]
  },
  {
   "cell_type": "markdown",
   "metadata": {},
   "source": [
    "Format the data so we can feed it to a model."
   ]
  },
  {
   "cell_type": "code",
   "execution_count": 3,
   "metadata": {
    "collapsed": true
   },
   "outputs": [],
   "source": [
    "# Spliting the points and the labels\n",
    "X = dataset.iloc[:, :-1].values  \n",
    "y = dataset.iloc[:, 36].values\n",
    "\n",
    "# And split the data into appropriate data sets\n",
    "X_train, X_test, y_train, y_test = train_test_split(X, y, test_size=0.20) \n",
    "\n",
    "#Scale the data - KNN likes scaled data :D\n",
    "scaler = StandardScaler()\n",
    "scaler.fit(X_train)\n",
    "X_train = scaler.transform(X_train)\n",
    "X_test = scaler.transform(X_test)"
   ]
  },
  {
   "cell_type": "markdown",
   "metadata": {},
   "source": [
    "Our data is ready to feed it to a model! Our first approach will be to classify which pose the user is currently in. If the user is not in the correct pose, we'll give them some advice on how to execute it. As we progress, we'll want to think about how to evaluate the user's pose, ie. how well are they execuring the pose. But for now, let's just determine if a user is in the right pose.\n",
    "\n",
    "We'll try K-Neearest Neighbors. This algorithm will cluster all the similar poses together into (hopefully) differentiated groups so when a new pose sample gets introduced, the model will know what group that pose belongs to. When it finds which group the pose should be put it, it will be associated with that group's particular label. \n",
    "\n",
    "Which K should we use? The default is k=5, ie look at the closest 5 neighbors. However this may not be the best K for our data. Since we don't have too many samples, lets iterate through K = 1-40 and see which K returns the model with the lowest error score compared to our test set. "
   ]
  },
  {
   "cell_type": "code",
   "execution_count": 4,
   "metadata": {},
   "outputs": [
    {
     "name": "stdout",
     "output_type": "stream",
     "text": [
      "[0.6395061728395062, 0.6666666666666666, 0.6345679012345679, 0.6345679012345679, 0.6148148148148148, 0.6074074074074074, 0.6123456790123457, 0.6098765432098765, 0.6148148148148148, 0.5901234567901235, 0.6098765432098765, 0.6024691358024692, 0.6049382716049383, 0.5925925925925926, 0.5975308641975309, 0.6024691358024692, 0.5950617283950618, 0.5950617283950618, 0.582716049382716, 0.5777777777777777, 0.582716049382716, 0.582716049382716, 0.5975308641975309, 0.5901234567901235, 0.5950617283950618, 0.5851851851851851, 0.5950617283950618, 0.5802469135802469, 0.5901234567901235, 0.5901234567901235, 0.5876543209876544, 0.582716049382716, 0.5950617283950618, 0.5925925925925926, 0.5975308641975309, 0.5975308641975309, 0.5975308641975309, 0.6024691358024692, 0.6098765432098765]\n",
      "Best K:  19\n"
     ]
    }
   ],
   "source": [
    "error = []\n",
    "for i in range(1, 40):\n",
    "    knn = KNeighborsClassifier(n_neighbors=i)\n",
    "    knn.fit(X_train, y_train)\n",
    "    pred_i = knn.predict(X_test)\n",
    "    error.append(np.mean(pred_i != y_test))\n",
    "print(error)\n",
    "\n",
    "#Let's see which K gives us the lowest error:\n",
    "best_k = error.index(min(error))\n",
    "print('Best K: ', best_k)"
   ]
  },
  {
   "cell_type": "code",
   "execution_count": 6,
   "metadata": {
    "collapsed": true
   },
   "outputs": [],
   "source": [
    "#So we'll go with K=20 for now\n",
    "knn = KNeighborsClassifier(n_neighbors=19)\n",
    "knn.fit(X_train, y_train)\n",
    "y_pred = knn.predict(X_test)"
   ]
  },
  {
   "cell_type": "markdown",
   "metadata": {},
   "source": [
    "So here we see that looking at 20 neighbors is the best K out of our 40 possible K values. \n",
    "However, this number doesn't really tell us how well the model is actually classifying our 11 poses!\n",
    "We can see how well the model is grouping samples by printing the *confusion matrix* of the model. The confusion matrix will show us how often the model gets confused about a sample and misclassifies it AND to what it misclassifies it as. \n",
    "\n",
    "We'll also look at the classification report which will give us the recall and precision among other stats for each label"
   ]
  },
  {
   "cell_type": "code",
   "execution_count": 8,
   "metadata": {},
   "outputs": [
    {
     "name": "stdout",
     "output_type": "stream",
     "text": [
      "[[ 2  3  6  9  0  0  0  2  1  0  1]\n",
      " [ 0 24  7  4  0  0  0  6  2  4  1]\n",
      " [ 1  2 24  8  0  0  1  1  1  5  2]\n",
      " [ 1  1  8 20  1  0  1  5  1  0  0]\n",
      " [ 0  2  1  2  0  0  0  1  0  1  1]\n",
      " [ 0  3  0  0  0  1  0  2  0  1  1]\n",
      " [ 0  0  2  0  0  0 21  0  2  6  1]\n",
      " [ 1 11  2  9  0  0  0 22  1  3  3]\n",
      " [ 0  2  5  0  0  0  7  4 11 18  2]\n",
      " [ 1  2  1  1  0  0  3  2  6 39  0]\n",
      " [ 0  4  6  5  0  0  5  3  5 13  5]]\n",
      "                      precision    recall  f1-score   support\n",
      "\n",
      "                 cat       0.33      0.08      0.13        24\n",
      "chaturanga_dandasana       0.44      0.50      0.47        48\n",
      "               cobra       0.39      0.53      0.45        45\n",
      "                 cow       0.34      0.53      0.42        38\n",
      "        downward_dog       0.00      0.00      0.00         8\n",
      "        forward_bend       1.00      0.12      0.22         8\n",
      "            mountain       0.55      0.66      0.60        32\n",
      "               plank       0.46      0.42      0.44        52\n",
      "           warrior_1       0.37      0.22      0.28        49\n",
      "           warrior_2       0.43      0.71      0.54        55\n",
      "           warrior_3       0.29      0.11      0.16        46\n",
      "\n",
      "         avg / total       0.41      0.42      0.39       405\n",
      "\n"
     ]
    }
   ],
   "source": [
    "from sklearn.metrics import confusion_matrix, classification_report\n",
    "conf_matrix = confusion_matrix(y_test, y_pred)\n",
    "print(conf_matrix)\n",
    "\n",
    "class_report = classification_report(y_test, y_pred)\n",
    "print(class_report)"
   ]
  },
  {
   "cell_type": "markdown",
   "metadata": {},
   "source": [
    "And to get a better view let's graph the confusion matrix."
   ]
  },
  {
   "cell_type": "code",
   "execution_count": 9,
   "metadata": {},
   "outputs": [
    {
     "data": {
      "image/png": "[encoded data removed]",
      "text/plain": [
       "<matplotlib.figure.Figure at 0x7f6296a29a90>"
      ]
     },
     "metadata": {},
     "output_type": "display_data"
    }
   ],
   "source": [
    "plt.matshow(conf_matrix, cmap=\"Blues\")\n",
    "plt.title('Confusion matrix')\n",
    "plt.colorbar()\n",
    "plt.ylabel('True label')\n",
    "plt.xlabel('Predicted label')\n",
    "plt.show()"
   ]
  },
  {
   "cell_type": "markdown",
   "metadata": {},
   "source": [
    "Dark blue on the diagonal is what we're aiming for. We can see the model is really good at predicting *warrior_2* pose but not so great at predicting *cat* for example. We can look at the counts and see that we have an unbalanced dataset where *warrior_2* has plenty of examples to learn from, but other categories like *cat* or *downward_dog* don't have many. Gathering more data always helps! Go back to the internet, gather more samples to balance out the dataset and retrain. "
   ]
  },
  {
   "cell_type": "code",
   "execution_count": null,
   "metadata": {
    "collapsed": true
   },
   "outputs": [],
   "source": []
  }
 ],
 "metadata": {
  "kernelspec": {
   "display_name": "Python 3",
   "language": "python",
   "name": "python3"
  },
  "language_info": {
   "codemirror_mode": {
    "name": "ipython",
    "version": 3
   },
   "file_extension": ".py",
   "mimetype": "text/x-python",
   "name": "python",
   "nbconvert_exporter": "python",
   "pygments_lexer": "ipython3",
   "version": "3.6.1"
  }
 },
 "nbformat": 4,
 "nbformat_minor": 2
}
